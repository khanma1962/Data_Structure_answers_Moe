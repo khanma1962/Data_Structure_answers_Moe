{
 "cells": [
  {
   "cell_type": "code",
   "execution_count": 1,
   "metadata": {},
   "outputs": [],
   "source": [
    "# anagram check"
   ]
  },
  {
   "cell_type": "code",
   "execution_count": null,
   "metadata": {},
   "outputs": [],
   "source": []
  },
  {
   "cell_type": "code",
   "execution_count": 28,
   "metadata": {},
   "outputs": [],
   "source": [
    "def anagram_check(s1, s2):\n",
    "    s1 = s1.replace(' ', '')\n",
    "    s2 = s2.replace(' ', '')\n",
    "    d1, d2 = {} , {}\n",
    "    print('s1 and s2 are', s1,s2)\n",
    "    \n",
    "    if len(s1) != len(s2):\n",
    "        return False\n",
    "    \n",
    "    for char in s1:\n",
    "        if char not in d1:\n",
    "            d1[char] = 1\n",
    "        else:\n",
    "            d1[char] += 1\n",
    "\n",
    "    for char in s2:\n",
    "        if char not in d2:\n",
    "            d2[char] = 1\n",
    "        else:\n",
    "            d2[char] += 1\n",
    "    print('d1 and d2 are', d1, d2)\n",
    "    return d1 == d2"
   ]
  },
  {
   "cell_type": "code",
   "execution_count": 32,
   "metadata": {},
   "outputs": [
    {
     "name": "stdout",
     "output_type": "stream",
     "text": [
      "s1 and s2 are publicrelations crapbuiltonlies\n",
      "d1 and d2 are {'p': 1, 'u': 1, 'b': 1, 'l': 2, 'i': 2, 'c': 1, 'r': 1, 'e': 1, 'a': 1, 't': 1, 'o': 1, 'n': 1, 's': 1} {'c': 1, 'r': 1, 'a': 1, 'p': 1, 'b': 1, 'u': 1, 'i': 2, 'l': 2, 't': 1, 'o': 1, 'n': 1, 'e': 1, 's': 1}\n"
     ]
    },
    {
     "data": {
      "text/plain": [
       "True"
      ]
     },
     "execution_count": 32,
     "metadata": {},
     "output_type": "execute_result"
    }
   ],
   "source": [
    "s1 = 'public relations'\n",
    "s2 = 'crap built on lies'\n",
    "anagram_check('public relations', 'crap built on lies')"
   ]
  },
  {
   "cell_type": "code",
   "execution_count": 30,
   "metadata": {},
   "outputs": [
    {
     "name": "stdout",
     "output_type": "stream",
     "text": [
      "s1 and s2 are dog god\n",
      "d1 and d2 are {'d': 1, 'o': 1, 'g': 1} {'g': 1, 'o': 1, 'd': 1}\n"
     ]
    },
    {
     "data": {
      "text/plain": [
       "True"
      ]
     },
     "execution_count": 30,
     "metadata": {},
     "output_type": "execute_result"
    }
   ],
   "source": [
    "anagram_check('dog', 'god')"
   ]
  },
  {
   "cell_type": "code",
   "execution_count": 31,
   "metadata": {},
   "outputs": [
    {
     "name": "stdout",
     "output_type": "stream",
     "text": [
      "s1 and s2 are clinteastwood oldwestaction\n",
      "d1 and d2 are {'c': 1, 'l': 1, 'i': 1, 'n': 1, 't': 2, 'e': 1, 'a': 1, 's': 1, 'w': 1, 'o': 2, 'd': 1} {'o': 2, 'l': 1, 'd': 1, 'w': 1, 'e': 1, 's': 1, 't': 2, 'a': 1, 'c': 1, 'i': 1, 'n': 1}\n"
     ]
    },
    {
     "data": {
      "text/plain": [
       "True"
      ]
     },
     "execution_count": 31,
     "metadata": {},
     "output_type": "execute_result"
    }
   ],
   "source": [
    "anagram_check('clint eastwood', 'old west action')"
   ]
  },
  {
   "cell_type": "code",
   "execution_count": null,
   "metadata": {},
   "outputs": [],
   "source": []
  }
 ],
 "metadata": {
  "kernelspec": {
   "display_name": "Python 3",
   "language": "python",
   "name": "python3"
  },
  "language_info": {
   "codemirror_mode": {
    "name": "ipython",
    "version": 3
   },
   "file_extension": ".py",
   "mimetype": "text/x-python",
   "name": "python",
   "nbconvert_exporter": "python",
   "pygments_lexer": "ipython3",
   "version": "3.7.6"
  }
 },
 "nbformat": 4,
 "nbformat_minor": 4
}
