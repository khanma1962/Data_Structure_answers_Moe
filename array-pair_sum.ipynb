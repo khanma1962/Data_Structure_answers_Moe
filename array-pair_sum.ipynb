{
 "cells": [
  {
   "cell_type": "code",
   "execution_count": null,
   "metadata": {},
   "outputs": [],
   "source": [
    "# pair sum"
   ]
  },
  {
   "cell_type": "code",
   "execution_count": 9,
   "metadata": {},
   "outputs": [],
   "source": [
    "def pair_sum__(arr, k):\n",
    "    if len(arr) == 1:\n",
    "        return 0\n",
    "    for i in range(len(arr)):\n",
    "        for j in range(len(arr)):\n",
    "            if arr[i] +  arr[j] == k and i !=j:\n",
    "                print( 'The pairs are ',arr[i], arr[j])\n",
    "    "
   ]
  },
  {
   "cell_type": "code",
   "execution_count": 20,
   "metadata": {},
   "outputs": [],
   "source": [
    "def pair_sum1(arr, k):\n",
    "    if len(arr) == 1:\n",
    "        print('arr too small')\n",
    "        return 0\n",
    "    \n",
    "    d = {}\n",
    "    for n in arr:\n",
    "        print(d)\n",
    "        if k-n in d:\n",
    "            print('The pairs are ', n , (k-n))\n",
    "        else:\n",
    "            d[n] = 1"
   ]
  },
  {
   "cell_type": "code",
   "execution_count": 38,
   "metadata": {},
   "outputs": [],
   "source": [
    "\n",
    "def pair_sum(arr, k):\n",
    "    if len(arr) == 1:\n",
    "        return 0\n",
    "    \n",
    "    seen = set()\n",
    "    output = set()\n",
    "    \n",
    "    for n in arr:\n",
    "        target = k - n\n",
    "#         print('seen and target are', seen , target, output)\n",
    "        if target not in seen:\n",
    "            seen.add(n)\n",
    "        \n",
    "        else:\n",
    "            output.add((max(n, target), min(n, target)))\n",
    "    \n",
    "#     return len(output)\n",
    "    print ('\\n'.join(map(str, list(output))))\n",
    "    \n",
    "                      "
   ]
  },
  {
   "cell_type": "code",
   "execution_count": null,
   "metadata": {},
   "outputs": [],
   "source": []
  },
  {
   "cell_type": "code",
   "execution_count": null,
   "metadata": {},
   "outputs": [],
   "source": []
  },
  {
   "cell_type": "code",
   "execution_count": 39,
   "metadata": {},
   "outputs": [
    {
     "name": "stdout",
     "output_type": "stream",
     "text": [
      "(3, 1)\n",
      "(2, 2)\n"
     ]
    }
   ],
   "source": [
    "pair_sum([1,3,2,2], 4)"
   ]
  },
  {
   "cell_type": "code",
   "execution_count": null,
   "metadata": {},
   "outputs": [],
   "source": []
  },
  {
   "cell_type": "code",
   "execution_count": null,
   "metadata": {},
   "outputs": [],
   "source": []
  },
  {
   "cell_type": "code",
   "execution_count": null,
   "metadata": {},
   "outputs": [],
   "source": []
  }
 ],
 "metadata": {
  "kernelspec": {
   "display_name": "Python 3",
   "language": "python",
   "name": "python3"
  },
  "language_info": {
   "codemirror_mode": {
    "name": "ipython",
    "version": 3
   },
   "file_extension": ".py",
   "mimetype": "text/x-python",
   "name": "python",
   "nbconvert_exporter": "python",
   "pygments_lexer": "ipython3",
   "version": "3.7.6"
  }
 },
 "nbformat": 4,
 "nbformat_minor": 4
}
