{
 "cells": [
  {
   "cell_type": "code",
   "execution_count": 1,
   "metadata": {
    "colab": {},
    "colab_type": "code",
    "executionInfo": {
     "elapsed": 330,
     "status": "ok",
     "timestamp": 1596155980267,
     "user": {
      "displayName": "Moe Khan",
      "photoUrl": "https://lh3.googleusercontent.com/a-/AOh14GihIfMaGkqmaWkIqJQMZkUikNd8fXA1cTUkxrAyMg=s64",
      "userId": "07011757049449668258"
     },
     "user_tz": 420
    },
    "id": "F8HcCuqeK7--"
   },
   "outputs": [],
   "source": [
    "import ctypes\n",
    "\n",
    "class DynamicArray(object):\n",
    "\n",
    "  def __init__(self):\n",
    "    self.n = 0\n",
    "    self.capacity = 1\n",
    "    self.A = self.make_array(self.capacity)\n",
    "\n",
    "  def __len__(self):\n",
    "    return self.n\n",
    "  \n",
    "  def __getitem__(self,k):\n",
    "    if not 0<= k <= self.n:\n",
    "      return IndexError('k is out of bounds!')\n",
    "    return self.A[k]\n",
    "\n",
    "  def append(self, ele):\n",
    "    if self.n == self.capacity:\n",
    "      self._resize(2*self.capacity) # 2 times of capacity is not enough\n",
    "\n",
    "    self.A[self.n] = ele\n",
    "    self.n += 1\n",
    "\n",
    "  def _resize(self, new_cap):\n",
    "\n",
    "    B = self.make_array(new_cap)\n",
    "\n",
    "    for k in range(self.n):\n",
    "      B[k] = self.A[k]\n",
    "    \n",
    "    self.A = B\n",
    "    self.capacity = new_cap\n",
    "\n",
    "  def make_array(self, new_cap):\n",
    "    return (new_cap * ctypes.py_object)()\n",
    "\n"
   ]
  },
  {
   "cell_type": "code",
   "execution_count": 2,
   "metadata": {
    "colab": {},
    "colab_type": "code",
    "executionInfo": {
     "elapsed": 357,
     "status": "ok",
     "timestamp": 1596155983378,
     "user": {
      "displayName": "Moe Khan",
      "photoUrl": "https://lh3.googleusercontent.com/a-/AOh14GihIfMaGkqmaWkIqJQMZkUikNd8fXA1cTUkxrAyMg=s64",
      "userId": "07011757049449668258"
     },
     "user_tz": 420
    },
    "id": "2CLgQFyxK74y"
   },
   "outputs": [],
   "source": [
    "arr = DynamicArray()"
   ]
  },
  {
   "cell_type": "code",
   "execution_count": 13,
   "metadata": {
    "colab": {},
    "colab_type": "code",
    "executionInfo": {
     "elapsed": 340,
     "status": "ok",
     "timestamp": 1596156051969,
     "user": {
      "displayName": "Moe Khan",
      "photoUrl": "https://lh3.googleusercontent.com/a-/AOh14GihIfMaGkqmaWkIqJQMZkUikNd8fXA1cTUkxrAyMg=s64",
      "userId": "07011757049449668258"
     },
     "user_tz": 420
    },
    "id": "YFBSqx7KORe5"
   },
   "outputs": [],
   "source": [
    "arr.append(20)"
   ]
  },
  {
   "cell_type": "code",
   "execution_count": 14,
   "metadata": {
    "colab": {
     "base_uri": "https://localhost:8080/",
     "height": 35
    },
    "colab_type": "code",
    "executionInfo": {
     "elapsed": 323,
     "status": "ok",
     "timestamp": 1596156053577,
     "user": {
      "displayName": "Moe Khan",
      "photoUrl": "https://lh3.googleusercontent.com/a-/AOh14GihIfMaGkqmaWkIqJQMZkUikNd8fXA1cTUkxrAyMg=s64",
      "userId": "07011757049449668258"
     },
     "user_tz": 420
    },
    "id": "93zQ-NSXOR38",
    "outputId": "030712cb-698d-4522-ebc3-7918d9302e43"
   },
   "outputs": [
    {
     "data": {
      "text/plain": [
       "3"
      ]
     },
     "execution_count": 14,
     "metadata": {
      "tags": []
     },
     "output_type": "execute_result"
    }
   ],
   "source": [
    "len(arr)"
   ]
  },
  {
   "cell_type": "code",
   "execution_count": 15,
   "metadata": {
    "colab": {
     "base_uri": "https://localhost:8080/",
     "height": 35
    },
    "colab_type": "code",
    "executionInfo": {
     "elapsed": 334,
     "status": "ok",
     "timestamp": 1596156055856,
     "user": {
      "displayName": "Moe Khan",
      "photoUrl": "https://lh3.googleusercontent.com/a-/AOh14GihIfMaGkqmaWkIqJQMZkUikNd8fXA1cTUkxrAyMg=s64",
      "userId": "07011757049449668258"
     },
     "user_tz": 420
    },
    "id": "8Q62KAo5K7z8",
    "outputId": "05e7c961-9293-4b6f-ac94-90bab04c959f"
   },
   "outputs": [
    {
     "data": {
      "text/plain": [
       "20"
      ]
     },
     "execution_count": 15,
     "metadata": {
      "tags": []
     },
     "output_type": "execute_result"
    }
   ],
   "source": [
    "arr[2]"
   ]
  },
  {
   "cell_type": "code",
   "execution_count": 16,
   "metadata": {
    "colab": {
     "base_uri": "https://localhost:8080/",
     "height": 35
    },
    "colab_type": "code",
    "executionInfo": {
     "elapsed": 383,
     "status": "ok",
     "timestamp": 1596156058435,
     "user": {
      "displayName": "Moe Khan",
      "photoUrl": "https://lh3.googleusercontent.com/a-/AOh14GihIfMaGkqmaWkIqJQMZkUikNd8fXA1cTUkxrAyMg=s64",
      "userId": "07011757049449668258"
     },
     "user_tz": 420
    },
    "id": "zEwnBDKiK7xQ",
    "outputId": "2c8633c0-2eb1-467a-a6f0-fdd0f78c8ea7"
   },
   "outputs": [
    {
     "name": "stdout",
     "output_type": "stream",
     "text": [
      "56\n"
     ]
    }
   ],
   "source": [
    "import sys\n",
    "print(sys.getsizeof(arr))"
   ]
  },
  {
   "cell_type": "code",
   "execution_count": null,
   "metadata": {
    "colab": {},
    "colab_type": "code",
    "id": "AEDYk3nMK7to"
   },
   "outputs": [],
   "source": [
    "dir(arr)"
   ]
  },
  {
   "cell_type": "code",
   "execution_count": null,
   "metadata": {
    "colab": {
     "base_uri": "https://localhost:8080/",
     "height": 122
    },
    "colab_type": "code",
    "executionInfo": {
     "elapsed": 5145,
     "status": "ok",
     "timestamp": 1596130418005,
     "user": {
      "displayName": "Moe Khan",
      "photoUrl": "https://lh3.googleusercontent.com/a-/AOh14GihIfMaGkqmaWkIqJQMZkUikNd8fXA1cTUkxrAyMg=s64",
      "userId": "07011757049449668258"
     },
     "user_tz": 420
    },
    "id": "PBDjm6-IySU0",
    "outputId": "8d53db69-0286-4b98-9849-63a997751122"
   },
   "outputs": [
    {
     "name": "stdout",
     "output_type": "stream",
     "text": [
      "Collecting nose\n",
      "\u001b[?25l  Downloading https://files.pythonhosted.org/packages/15/d8/dd071918c040f50fa1cf80da16423af51ff8ce4a0f2399b7bf8de45ac3d9/nose-1.3.7-py3-none-any.whl (154kB)\n",
      "\r",
      "\u001b[K     |██▏                             | 10kB 20.4MB/s eta 0:00:01\r",
      "\u001b[K     |████▎                           | 20kB 3.0MB/s eta 0:00:01\r",
      "\u001b[K     |██████▍                         | 30kB 3.9MB/s eta 0:00:01\r",
      "\u001b[K     |████████▌                       | 40kB 4.1MB/s eta 0:00:01\r",
      "\u001b[K     |██████████▋                     | 51kB 3.4MB/s eta 0:00:01\r",
      "\u001b[K     |████████████▊                   | 61kB 3.7MB/s eta 0:00:01\r",
      "\u001b[K     |██████████████▉                 | 71kB 4.1MB/s eta 0:00:01\r",
      "\u001b[K     |█████████████████               | 81kB 4.4MB/s eta 0:00:01\r",
      "\u001b[K     |███████████████████             | 92kB 4.7MB/s eta 0:00:01\r",
      "\u001b[K     |█████████████████████▏          | 102kB 4.5MB/s eta 0:00:01\r",
      "\u001b[K     |███████████████████████▎        | 112kB 4.5MB/s eta 0:00:01\r",
      "\u001b[K     |█████████████████████████▍      | 122kB 4.5MB/s eta 0:00:01\r",
      "\u001b[K     |███████████████████████████▌    | 133kB 4.5MB/s eta 0:00:01\r",
      "\u001b[K     |█████████████████████████████▋  | 143kB 4.5MB/s eta 0:00:01\r",
      "\u001b[K     |███████████████████████████████▊| 153kB 4.5MB/s eta 0:00:01\r",
      "\u001b[K     |████████████████████████████████| 163kB 4.5MB/s \n",
      "\u001b[?25hInstalling collected packages: nose\n",
      "Successfully installed nose-1.3.7\n"
     ]
    }
   ],
   "source": [
    "pip install nose"
   ]
  },
  {
   "cell_type": "code",
   "execution_count": null,
   "metadata": {
    "colab": {
     "base_uri": "https://localhost:8080/",
     "height": 34
    },
    "colab_type": "code",
    "executionInfo": {
     "elapsed": 2745,
     "status": "ok",
     "timestamp": 1596130354072,
     "user": {
      "displayName": "Moe Khan",
      "photoUrl": "https://lh3.googleusercontent.com/a-/AOh14GihIfMaGkqmaWkIqJQMZkUikNd8fXA1cTUkxrAyMg=s64",
      "userId": "07011757049449668258"
     },
     "user_tz": 420
    },
    "id": "EclW9NT7Vf4C",
    "outputId": "38f48b82-a175-4b9d-f8c8-d5771a7ddf90"
   },
   "outputs": [
    {
     "name": "stdout",
     "output_type": "stream",
     "text": [
      "Python 3.6.9\n"
     ]
    }
   ],
   "source": [
    "!python --version\n"
   ]
  },
  {
   "cell_type": "code",
   "execution_count": null,
   "metadata": {
    "colab": {},
    "colab_type": "code",
    "id": "Em3_coz4yQom"
   },
   "outputs": [],
   "source": [
    "def add(n1, n2):\n",
    "  return n1+n2"
   ]
  },
  {
   "cell_type": "code",
   "execution_count": null,
   "metadata": {
    "colab": {
     "base_uri": "https://localhost:8080/",
     "height": 34
    },
    "colab_type": "code",
    "executionInfo": {
     "elapsed": 348,
     "status": "ok",
     "timestamp": 1596130865848,
     "user": {
      "displayName": "Moe Khan",
      "photoUrl": "https://lh3.googleusercontent.com/a-/AOh14GihIfMaGkqmaWkIqJQMZkUikNd8fXA1cTUkxrAyMg=s64",
      "userId": "07011757049449668258"
     },
     "user_tz": 420
    },
    "id": "n7S3uG5izKGy",
    "outputId": "1495802a-4f09-4b00-d452-f79f29c73694"
   },
   "outputs": [
    {
     "name": "stdout",
     "output_type": "stream",
     "text": [
      "all test cases passed\n"
     ]
    }
   ],
   "source": [
    "from nose.tools import assert_equal\n",
    "\n",
    "class SolutionTest(object):\n",
    "\n",
    "  def sol(self, test):\n",
    "    assert_equal(add(2,2),4)\n",
    "    assert_equal(add(-100,50),-50)\n",
    "    print('all test cases passed')\n",
    "\n",
    "#test the code\n",
    "t = SolutionTest()\n",
    "t.sol(add)\n"
   ]
  },
  {
   "cell_type": "code",
   "execution_count": null,
   "metadata": {
    "colab": {
     "base_uri": "https://localhost:8080/",
     "height": 357
    },
    "colab_type": "code",
    "executionInfo": {
     "elapsed": 469,
     "status": "ok",
     "timestamp": 1596146030540,
     "user": {
      "displayName": "Moe Khan",
      "photoUrl": "https://lh3.googleusercontent.com/a-/AOh14GihIfMaGkqmaWkIqJQMZkUikNd8fXA1cTUkxrAyMg=s64",
      "userId": "07011757049449668258"
     },
     "user_tz": 420
    },
    "id": "lnY8d3fCzP8N",
    "outputId": "8a901112-63d1-401b-e2a6-00b9861514c4"
   },
   "outputs": [
    {
     "name": "stdout",
     "output_type": "stream",
     "text": [
      "Lenght:   0 ; size in bytes:   64\n",
      "Lenght:   1 ; size in bytes:   96\n",
      "Lenght:   2 ; size in bytes:   96\n",
      "Lenght:   3 ; size in bytes:   96\n",
      "Lenght:   4 ; size in bytes:   96\n",
      "Lenght:   5 ; size in bytes:  128\n",
      "Lenght:   6 ; size in bytes:  128\n",
      "Lenght:   7 ; size in bytes:  128\n",
      "Lenght:   8 ; size in bytes:  128\n",
      "Lenght:   9 ; size in bytes:  192\n",
      "Lenght:  10 ; size in bytes:  192\n",
      "Lenght:  11 ; size in bytes:  192\n",
      "Lenght:  12 ; size in bytes:  192\n",
      "Lenght:  13 ; size in bytes:  192\n",
      "Lenght:  14 ; size in bytes:  192\n",
      "Lenght:  15 ; size in bytes:  192\n",
      "Lenght:  16 ; size in bytes:  192\n",
      "Lenght:  17 ; size in bytes:  264\n",
      "Lenght:  18 ; size in bytes:  264\n",
      "Lenght:  19 ; size in bytes:  264\n"
     ]
    }
   ],
   "source": [
    "import sys\n",
    "\n",
    "n=20\n",
    "data = []\n",
    "\n",
    "for i in range(n):\n",
    "  a = len(data)\n",
    "  b = sys.getsizeof(data)\n",
    "  print('Lenght: {0:3d} ; size in bytes: {1:4d}'.format(a,b))\n",
    "  data.append(n)"
   ]
  },
  {
   "cell_type": "code",
   "execution_count": null,
   "metadata": {
    "colab": {},
    "colab_type": "code",
    "id": "ZT__84guuCLA"
   },
   "outputs": [],
   "source": []
  },
  {
   "cell_type": "code",
   "execution_count": null,
   "metadata": {
    "colab": {},
    "colab_type": "code",
    "id": "gsMYT-O8uDFT"
   },
   "outputs": [],
   "source": []
  },
  {
   "cell_type": "code",
   "execution_count": null,
   "metadata": {
    "colab": {},
    "colab_type": "code",
    "id": "A5NqeN95uDK_"
   },
   "outputs": [],
   "source": []
  },
  {
   "cell_type": "code",
   "execution_count": null,
   "metadata": {
    "colab": {},
    "colab_type": "code",
    "id": "puZmH7u5uCaa"
   },
   "outputs": [],
   "source": []
  },
  {
   "cell_type": "code",
   "execution_count": null,
   "metadata": {
    "colab": {},
    "colab_type": "code",
    "id": "v9qbj_n2uB_q"
   },
   "outputs": [],
   "source": []
  },
  {
   "cell_type": "code",
   "execution_count": null,
   "metadata": {
    "colab": {},
    "colab_type": "code",
    "id": "SmG1nnU_uB-O"
   },
   "outputs": [],
   "source": []
  },
  {
   "cell_type": "code",
   "execution_count": null,
   "metadata": {
    "colab": {},
    "colab_type": "code",
    "id": "xGYLulAxuB8k"
   },
   "outputs": [],
   "source": []
  },
  {
   "cell_type": "code",
   "execution_count": null,
   "metadata": {
    "colab": {},
    "colab_type": "code",
    "id": "jigu9tW8uB61"
   },
   "outputs": [],
   "source": []
  }
 ],
 "metadata": {
  "colab": {
   "authorship_tag": "ABX9TyMK73t+rSlc8oYKhCPhgv5z",
   "collapsed_sections": [],
   "name": "Data Structures Joe P.ipynb",
   "provenance": []
  },
  "kernelspec": {
   "display_name": "Python 3",
   "language": "python",
   "name": "python3"
  },
  "language_info": {
   "codemirror_mode": {
    "name": "ipython",
    "version": 3
   },
   "file_extension": ".py",
   "mimetype": "text/x-python",
   "name": "python",
   "nbconvert_exporter": "python",
   "pygments_lexer": "ipython3",
   "version": "3.7.6"
  }
 },
 "nbformat": 4,
 "nbformat_minor": 1
}
