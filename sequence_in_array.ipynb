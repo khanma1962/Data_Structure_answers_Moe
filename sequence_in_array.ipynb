{
 "metadata": {
  "language_info": {
   "codemirror_mode": {
    "name": "ipython",
    "version": 3
   },
   "file_extension": ".py",
   "mimetype": "text/x-python",
   "name": "python",
   "nbconvert_exporter": "python",
   "pygments_lexer": "ipython3",
   "version": "3.7.6-final"
  },
  "orig_nbformat": 2,
  "kernelspec": {
   "name": "python3",
   "display_name": "Python 3.7.6 64-bit ('cv': conda)",
   "metadata": {
    "interpreter": {
     "hash": "8920e6f2618380f466b0879dbb19be30eb30766730bb761c09ea542e2ca31a5c"
    }
   }
  }
 },
 "nbformat": 4,
 "nbformat_minor": 2,
 "cells": [
  {
   "cell_type": "code",
   "execution_count": 6,
   "metadata": {},
   "outputs": [
    {
     "output_type": "stream",
     "name": "stdout",
     "text": [
      "tuple is [(1, 3)]\ntuple is [(1, 3), (5, 6)]\ntuple is [(1, 3), (5, 6), (3, 8)]\ntuple is [(1, 3), (5, 6), (3, 8), (4, 2)]\ntuple is [(1, 3), (5, 6), (3, 8), (4, 2), (0,)]\n"
     ]
    }
   ],
   "source": [
    "### finding sequence from array\n",
    "\n",
    "def seq_arr(lst, target):\n",
    "    seq_tuples = []\n",
    "    while lst:\n",
    "        # print(lst)\n",
    "        seq_tuples.append(tuple(lst[0:target]))\n",
    "        print('tuple is', seq_tuples)\n",
    "        lst = lst[target:]\n",
    "\n",
    "\n",
    "arr = [1,3,5,6,3,8,4,2,0]\n",
    "target = 2\n",
    "seq_arr(arr, target)\n"
   ]
  },
  {
   "cell_type": "code",
   "execution_count": null,
   "metadata": {},
   "outputs": [],
   "source": []
  }
 ]
}