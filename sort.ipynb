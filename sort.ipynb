{
 "cells": [
  {
   "cell_type": "code",
   "execution_count": null,
   "metadata": {
    "id": "B-4e4OFay09V"
   },
   "outputs": [],
   "source": []
  },
  {
   "cell_type": "code",
   "execution_count": null,
   "metadata": {
    "id": "4NfIV-HPzZk1"
   },
   "outputs": [],
   "source": []
  },
  {
   "cell_type": "code",
   "execution_count": 9,
   "metadata": {
    "executionInfo": {
     "elapsed": 632,
     "status": "ok",
     "timestamp": 1605325395913,
     "user": {
      "displayName": "Moe Khan",
      "photoUrl": "https://lh3.googleusercontent.com/a-/AOh14GihIfMaGkqmaWkIqJQMZkUikNd8fXA1cTUkxrAyMg=s64",
      "userId": "07011757049449668258"
     },
     "user_tz": 480
    },
    "id": "IcKdsTADzZol"
   },
   "outputs": [],
   "source": [
    "# Bubble Sort\n",
    "\n",
    "a = [99, 44, 6]#, 2, 1, 5, 63, 87, 283, 4, 0]\n",
    "\n",
    "def bubble_sort(arr): # O(n^2)\n",
    "    if len(arr) < 2:\n",
    "     return arr\n",
    "    for i in range(0, len(arr)):\n",
    "        for j in range(0, len(arr)):\n",
    "            print('i and j', i, j, arr)\n",
    "            if i !=j and arr[i] < arr[j]:\n",
    "                arr[i], arr[j] = arr[j], arr[i]\n",
    "    return arr\n",
    "     \n"
   ]
  },
  {
   "cell_type": "code",
   "execution_count": 11,
   "metadata": {
    "colab": {
     "base_uri": "https://localhost:8080/"
    },
    "executionInfo": {
     "elapsed": 653,
     "status": "ok",
     "timestamp": 1605325734497,
     "user": {
      "displayName": "Moe Khan",
      "photoUrl": "https://lh3.googleusercontent.com/a-/AOh14GihIfMaGkqmaWkIqJQMZkUikNd8fXA1cTUkxrAyMg=s64",
      "userId": "07011757049449668258"
     },
     "user_tz": 480
    },
    "id": "WPGpc69pzZtk",
    "outputId": "b46e3f08-d8c1-4747-9bef-41fff5eca114"
   },
   "outputs": [
    {
     "name": "stdout",
     "output_type": "stream",
     "text": [
      "i and j 0 0 [6, 44, 99]\n",
      "i and j 0 1 [6, 44, 99]\n",
      "i and j 0 2 [44, 6, 99]\n",
      "i and j 1 0 [99, 6, 44]\n",
      "i and j 1 1 [6, 99, 44]\n",
      "i and j 1 2 [6, 99, 44]\n",
      "i and j 2 0 [6, 99, 44]\n",
      "i and j 2 1 [6, 99, 44]\n",
      "i and j 2 2 [6, 44, 99]\n"
     ]
    },
    {
     "data": {
      "text/plain": [
       "[6, 44, 99]"
      ]
     },
     "execution_count": 11,
     "metadata": {
      "tags": []
     },
     "output_type": "execute_result"
    }
   ],
   "source": [
    "bubble_sort(a)"
   ]
  },
  {
   "cell_type": "code",
   "execution_count": 67,
   "metadata": {
    "executionInfo": {
     "elapsed": 654,
     "status": "ok",
     "timestamp": 1605328400160,
     "user": {
      "displayName": "Moe Khan",
      "photoUrl": "https://lh3.googleusercontent.com/a-/AOh14GihIfMaGkqmaWkIqJQMZkUikNd8fXA1cTUkxrAyMg=s64",
      "userId": "07011757049449668258"
     },
     "user_tz": 480
    },
    "id": "3EHmhqrX1-lz"
   },
   "outputs": [],
   "source": [
    "# selection sort\n",
    "def selection_sort(arr): #\n",
    "    if len(arr) < 2:\n",
    "        return arr\n",
    "\n",
    "    for i in range(0, len(arr)):\n",
    "        mid_ind = i\n",
    "        for j in range(i+1, len(arr)):\n",
    "            \n",
    "            if arr[j] < arr[mid_ind]:\n",
    "                print('i,j, mid_ind', i, j, mid_ind)\n",
    "                mid_ind = j\n",
    "            \n",
    "    arr[i], arr[mid_ind] = arr[mid_ind], arr[i]        \n",
    "    return arr\n"
   ]
  },
  {
   "cell_type": "code",
   "execution_count": 68,
   "metadata": {
    "colab": {
     "base_uri": "https://localhost:8080/"
    },
    "executionInfo": {
     "elapsed": 330,
     "status": "ok",
     "timestamp": 1605328400162,
     "user": {
      "displayName": "Moe Khan",
      "photoUrl": "https://lh3.googleusercontent.com/a-/AOh14GihIfMaGkqmaWkIqJQMZkUikNd8fXA1cTUkxrAyMg=s64",
      "userId": "07011757049449668258"
     },
     "user_tz": 480
    },
    "id": "9CGATxK92wTJ",
    "outputId": "ef4b5924-a45f-41f5-82c7-f9fdcecd9234"
   },
   "outputs": [
    {
     "name": "stdout",
     "output_type": "stream",
     "text": [
      "i,j, mid_ind 0 1 0\n",
      "i,j, mid_ind 0 2 1\n",
      "i,j, mid_ind 0 3 2\n",
      "i,j, mid_ind 0 4 3\n",
      "i,j, mid_ind 1 2 1\n",
      "i,j, mid_ind 1 3 2\n",
      "i,j, mid_ind 1 4 3\n",
      "i,j, mid_ind 2 3 2\n",
      "i,j, mid_ind 2 4 3\n",
      "i,j, mid_ind 3 4 3\n"
     ]
    },
    {
     "data": {
      "text/plain": [
       "[99, 44, 6, 2, 1]"
      ]
     },
     "execution_count": 68,
     "metadata": {
      "tags": []
     },
     "output_type": "execute_result"
    }
   ],
   "source": [
    "a = [99, 44, 6, 2, 1]#, 5, 63, 87, 283, 4, 0]\n",
    "\n",
    "selection_sort(a)"
   ]
  },
  {
   "cell_type": "code",
   "execution_count": 58,
   "metadata": {
    "colab": {
     "base_uri": "https://localhost:8080/"
    },
    "executionInfo": {
     "elapsed": 456,
     "status": "ok",
     "timestamp": 1605327397512,
     "user": {
      "displayName": "Moe Khan",
      "photoUrl": "https://lh3.googleusercontent.com/a-/AOh14GihIfMaGkqmaWkIqJQMZkUikNd8fXA1cTUkxrAyMg=s64",
      "userId": "07011757049449668258"
     },
     "user_tz": 480
    },
    "id": "kdqJAqKw2wW7",
    "outputId": "ba4141c7-b0e6-41ee-f030-54ae7b019779"
   },
   "outputs": [
    {
     "data": {
      "text/plain": [
       "[3, 99, 44, 6, 2, 1]"
      ]
     },
     "execution_count": 58,
     "metadata": {
      "tags": []
     },
     "output_type": "execute_result"
    }
   ],
   "source": [
    "a = [99, 44, 6, 2, 1]#, 5, 63, 87, 283, 4, 0]\n",
    "a.insert(0,3)\n",
    "a"
   ]
  },
  {
   "cell_type": "code",
   "execution_count": 1,
   "metadata": {
    "executionInfo": {
     "elapsed": 605,
     "status": "ok",
     "timestamp": 1605331298132,
     "user": {
      "displayName": "Moe Khan",
      "photoUrl": "https://lh3.googleusercontent.com/a-/AOh14GihIfMaGkqmaWkIqJQMZkUikNd8fXA1cTUkxrAyMg=s64",
      "userId": "07011757049449668258"
     },
     "user_tz": 480
    },
    "id": "z5dp8u6U2waN"
   },
   "outputs": [],
   "source": [
    "# insertion sort\n",
    "\n",
    "def insertion_sort(arr):\n",
    "    l = len(arr)\n",
    "    i = 1\n",
    "    end = arr[0]\n",
    "    print(l, i , end)\n",
    "    while i < l:\n",
    "        if arr[i] < end: # swap the end with arr[i]\n",
    "            print(' arr_i and end are ', arr[i], end)\n",
    "            x = arr.pop(i)\n",
    "            for j in range(0, i):\n",
    "                if x < arr[j]:\n",
    "                    arr.insert(j, x)\n",
    "                    break\n",
    "        \n",
    "        print('end and arr_i', end, arr[i])\n",
    "        end = arr[i]\n",
    "        i += 1\n",
    "    return arr\n"
   ]
  },
  {
   "cell_type": "code",
   "execution_count": 2,
   "metadata": {
    "colab": {
     "base_uri": "https://localhost:8080/"
    },
    "executionInfo": {
     "elapsed": 470,
     "status": "ok",
     "timestamp": 1605331298413,
     "user": {
      "displayName": "Moe Khan",
      "photoUrl": "https://lh3.googleusercontent.com/a-/AOh14GihIfMaGkqmaWkIqJQMZkUikNd8fXA1cTUkxrAyMg=s64",
      "userId": "07011757049449668258"
     },
     "user_tz": 480
    },
    "id": "Z_YqQWD42wdb",
    "outputId": "2c4616b2-085d-4905-e122-0bd8adfba610"
   },
   "outputs": [
    {
     "name": "stdout",
     "output_type": "stream",
     "text": [
      "6 1 5\n",
      " arr_i and end are  2 5\n",
      "end and arr_i 5 5\n",
      " arr_i and end are  4 5\n",
      "end and arr_i 5 5\n",
      "end and arr_i 5 6\n",
      " arr_i and end are  1 6\n",
      "end and arr_i 6 6\n",
      " arr_i and end are  3 6\n",
      "end and arr_i 6 6\n"
     ]
    },
    {
     "data": {
      "text/plain": [
       "[1, 2, 3, 4, 5, 6]"
      ]
     },
     "execution_count": 2,
     "metadata": {},
     "output_type": "execute_result"
    }
   ],
   "source": [
    "# a = [99, 44, 6, 2, 1, 5, 63, 87, 283, 4, 0]\n",
    "# a = [3, 9, 1, 7, 2]\n",
    "a =  [5, 2, 4,  6,  1,  3]\n",
    "insertion_sort(a)"
   ]
  },
  {
   "cell_type": "code",
   "execution_count": null,
   "metadata": {
    "id": "TKzyI5VP2wgw"
   },
   "outputs": [],
   "source": []
  },
  {
   "cell_type": "code",
   "execution_count": null,
   "metadata": {
    "id": "l5DK9Vl2QbDK"
   },
   "outputs": [],
   "source": []
  },
  {
   "cell_type": "code",
   "execution_count": null,
   "metadata": {
    "id": "F5uf-Tr4QbG6"
   },
   "outputs": [],
   "source": []
  },
  {
   "cell_type": "code",
   "execution_count": null,
   "metadata": {
    "id": "kICzhgwPQbKb"
   },
   "outputs": [],
   "source": []
  },
  {
   "cell_type": "code",
   "execution_count": null,
   "metadata": {
    "id": "SseQBeawQbNu"
   },
   "outputs": [],
   "source": []
  },
  {
   "cell_type": "code",
   "execution_count": null,
   "metadata": {
    "id": "o83zqf_WQbRQ"
   },
   "outputs": [],
   "source": []
  }
 ],
 "metadata": {
  "colab": {
   "authorship_tag": "ABX9TyOhoUNuie69+d8ZVG/0EhX9",
   "name": "sort.ipynb",
   "provenance": []
  },
  "kernelspec": {
   "display_name": "Python 3",
   "language": "python",
   "name": "python3"
  },
  "language_info": {
   "codemirror_mode": {
    "name": "ipython",
    "version": 3
   },
   "file_extension": ".py",
   "mimetype": "text/x-python",
   "name": "python",
   "nbconvert_exporter": "python",
   "pygments_lexer": "ipython3",
   "version": "3.7.6"
  }
 },
 "nbformat": 4,
 "nbformat_minor": 4
}
