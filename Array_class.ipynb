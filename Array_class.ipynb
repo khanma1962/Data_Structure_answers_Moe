{
 "cells": [
  {
   "cell_type": "code",
   "execution_count": null,
   "metadata": {
    "id": "5mdUvcorS1d9"
   },
   "outputs": [],
   "source": []
  },
  {
   "cell_type": "code",
   "execution_count": 8,
   "metadata": {
    "executionInfo": {
     "elapsed": 316,
     "status": "ok",
     "timestamp": 1604293203355,
     "user": {
      "displayName": "Moe Khan",
      "photoUrl": "https://lh3.googleusercontent.com/a-/AOh14GihIfMaGkqmaWkIqJQMZkUikNd8fXA1cTUkxrAyMg=s64",
      "userId": "07011757049449668258"
     },
     "user_tz": 480
    },
    "id": "1hli2f-FS5C4"
   },
   "outputs": [],
   "source": [
    "#Array class\n",
    "\n",
    "class Array():\n",
    "    def __init__(self):\n",
    "        self.num = 0\n",
    "        self.data = []\n",
    "    \n",
    "    def is_null(self):\n",
    "        return self.data == []\n",
    "    \n",
    "    def get_size(self):\n",
    "        return len(self.data)\n",
    "    \n",
    "    def append(self, num):\n",
    "        return self.data.append(num)\n",
    "    \n",
    "    def pop(self):\n",
    "        return self.data.pop()\n",
    "    \n",
    "    def get(self,index):\n",
    "        return self.data[index]\n",
    "\n"
   ]
  },
  {
   "cell_type": "code",
   "execution_count": 12,
   "metadata": {
    "colab": {
     "base_uri": "https://localhost:8080/"
    },
    "executionInfo": {
     "elapsed": 401,
     "status": "ok",
     "timestamp": 1604293284734,
     "user": {
      "displayName": "Moe Khan",
      "photoUrl": "https://lh3.googleusercontent.com/a-/AOh14GihIfMaGkqmaWkIqJQMZkUikNd8fXA1cTUkxrAyMg=s64",
      "userId": "07011757049449668258"
     },
     "user_tz": 480
    },
    "id": "eYNianTGS5F1",
    "outputId": "de974206-83eb-4fb9-d78f-99f239afd3f7"
   },
   "outputs": [
    {
     "name": "stdout",
     "output_type": "stream",
     "text": [
      "True\n",
      "False\n",
      "1\n",
      "3\n",
      "15\n"
     ]
    }
   ],
   "source": [
    "a = Array()\n",
    "print(a.is_null())\n",
    "a.append(5)\n",
    "print(a.is_null())\n",
    "print(a.get_size())\n",
    "a.append(3)\n",
    "a.append(15)\n",
    "print(a.get_size())\n",
    "print(a.get(2))"
   ]
  },
  {
   "cell_type": "code",
   "execution_count": null,
   "metadata": {
    "id": "0twQpLUiS5Ma"
   },
   "outputs": [],
   "source": []
  }
 ],
 "metadata": {
  "colab": {
   "authorship_tag": "ABX9TyNwWWKnhCo4qxUPsPh3mWJf",
   "name": "Array_class.ipynb",
   "provenance": []
  },
  "kernelspec": {
   "display_name": "Python 3",
   "language": "python",
   "name": "python3"
  },
  "language_info": {
   "codemirror_mode": {
    "name": "ipython",
    "version": 3
   },
   "file_extension": ".py",
   "mimetype": "text/x-python",
   "name": "python",
   "nbconvert_exporter": "python",
   "pygments_lexer": "ipython3",
   "version": "3.7.6"
  }
 },
 "nbformat": 4,
 "nbformat_minor": 4
}