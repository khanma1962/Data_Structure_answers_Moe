{
 "cells": [
  {
   "cell_type": "code",
   "execution_count": null,
   "metadata": {
    "id": "GXnzHwEEA8vz"
   },
   "outputs": [],
   "source": []
  },
  {
   "cell_type": "code",
   "execution_count": null,
   "metadata": {
    "id": "5HGoT7h2M_Rp"
   },
   "outputs": [],
   "source": []
  },
  {
   "cell_type": "code",
   "execution_count": 1,
   "metadata": {
    "executionInfo": {
     "elapsed": 466,
     "status": "ok",
     "timestamp": 1605134000633,
     "user": {
      "displayName": "Moe Khan",
      "photoUrl": "https://lh3.googleusercontent.com/a-/AOh14GihIfMaGkqmaWkIqJQMZkUikNd8fXA1cTUkxrAyMg=s64",
      "userId": "07011757049449668258"
     },
     "user_tz": 480
    },
    "id": "DLSNAD6gQjHv"
   },
   "outputs": [],
   "source": [
    "\n",
    "def fact_rec(num):\n",
    "    if num <2 : \n",
    "        return num\n",
    "    return num * fact_rec(num-1)\n",
    "   \n",
    "def fact_ite(num):\n",
    "    fact = 1  \n",
    "    if num < 2:\n",
    "        return fact\n",
    "    for i in range(2, num+1):\n",
    "        # print(i)\n",
    "        fact *=  i\n",
    "    return fact\n",
    "\n",
    "def fact_dyn_prog(num):\n",
    "    if num < 2:\n",
    "        return num\n",
    "    fact_dp = {0: 1}\n",
    "    for i in range(1, num+1):\n",
    "        fact_dp[i] = fact_dp[i-1] * i\n",
    "    # print(fact_dp)\n",
    "    return fact_dp[num]\n",
    "\n"
   ]
  },
  {
   "cell_type": "code",
   "execution_count": 2,
   "metadata": {
    "colab": {
     "base_uri": "https://localhost:8080/"
    },
    "executionInfo": {
     "elapsed": 3504,
     "status": "ok",
     "timestamp": 1605134055911,
     "user": {
      "displayName": "Moe Khan",
      "photoUrl": "https://lh3.googleusercontent.com/a-/AOh14GihIfMaGkqmaWkIqJQMZkUikNd8fXA1cTUkxrAyMg=s64",
      "userId": "07011757049449668258"
     },
     "user_tz": 480
    },
    "id": "6ZgqlRdmbFbE",
    "outputId": "ab4ce1b2-9a64-4a34-bcce-c2d9a11b85d1"
   },
   "outputs": [
    {
     "name": "stdout",
     "output_type": "stream",
     "text": [
      "8.78 µs ± 73.8 ns per loop (mean ± std. dev. of 7 runs, 100000 loops each)\n"
     ]
    },
    {
     "data": {
      "text/plain": [
       "30414093201713378043612608166064768844377641568960512000000000000"
      ]
     },
     "execution_count": 2,
     "metadata": {},
     "output_type": "execute_result"
    }
   ],
   "source": [
    "\n",
    "%timeit fact_dyn_prog(50)\n",
    "fact_dyn_prog(50)"
   ]
  },
  {
   "cell_type": "code",
   "execution_count": 3,
   "metadata": {
    "colab": {
     "base_uri": "https://localhost:8080/"
    },
    "executionInfo": {
     "elapsed": 6399,
     "status": "ok",
     "timestamp": 1605134059236,
     "user": {
      "displayName": "Moe Khan",
      "photoUrl": "https://lh3.googleusercontent.com/a-/AOh14GihIfMaGkqmaWkIqJQMZkUikNd8fXA1cTUkxrAyMg=s64",
      "userId": "07011757049449668258"
     },
     "user_tz": 480
    },
    "id": "ynjIEXM_QjLI",
    "outputId": "ef18d506-40c9-4fbb-957e-5373c7844594"
   },
   "outputs": [
    {
     "name": "stdout",
     "output_type": "stream",
     "text": [
      "9.93 µs ± 526 ns per loop (mean ± std. dev. of 7 runs, 100000 loops each)\n"
     ]
    },
    {
     "data": {
      "text/plain": [
       "30414093201713378043612608166064768844377641568960512000000000000"
      ]
     },
     "execution_count": 3,
     "metadata": {},
     "output_type": "execute_result"
    }
   ],
   "source": [
    "%timeit fact_rec(50)\n",
    "fact_rec(50)"
   ]
  },
  {
   "cell_type": "code",
   "execution_count": 4,
   "metadata": {
    "colab": {
     "base_uri": "https://localhost:8080/"
    },
    "executionInfo": {
     "elapsed": 7156,
     "status": "ok",
     "timestamp": 1605134060458,
     "user": {
      "displayName": "Moe Khan",
      "photoUrl": "https://lh3.googleusercontent.com/a-/AOh14GihIfMaGkqmaWkIqJQMZkUikNd8fXA1cTUkxrAyMg=s64",
      "userId": "07011757049449668258"
     },
     "user_tz": 480
    },
    "id": "ysr5ByKcQjOk",
    "outputId": "f12c7607-cfcb-428e-dab6-1d7e495cafbd"
   },
   "outputs": [
    {
     "name": "stdout",
     "output_type": "stream",
     "text": [
      "3.93 µs ± 60.3 ns per loop (mean ± std. dev. of 7 runs, 100000 loops each)\n"
     ]
    },
    {
     "data": {
      "text/plain": [
       "30414093201713378043612608166064768844377641568960512000000000000"
      ]
     },
     "execution_count": 4,
     "metadata": {},
     "output_type": "execute_result"
    }
   ],
   "source": [
    "%timeit fact_ite(50)\n",
    "fact_ite(50)"
   ]
  },
  {
   "cell_type": "code",
   "execution_count": null,
   "metadata": {
    "id": "GJcqJk3iUiH8"
   },
   "outputs": [],
   "source": []
  },
  {
   "cell_type": "code",
   "execution_count": 130,
   "metadata": {
    "executionInfo": {
     "elapsed": 497,
     "status": "ok",
     "timestamp": 1605143769694,
     "user": {
      "displayName": "Moe Khan",
      "photoUrl": "https://lh3.googleusercontent.com/a-/AOh14GihIfMaGkqmaWkIqJQMZkUikNd8fXA1cTUkxrAyMg=s64",
      "userId": "07011757049449668258"
     },
     "user_tz": 480
    },
    "id": "7gL2tiB0YHYG"
   },
   "outputs": [],
   "source": [
    "# fibanocci sequence\n",
    "\n",
    "def fib_rec(num):\n",
    "    if num < 2: # boundary condition\n",
    "        return num\n",
    "    print('main loop',num)\n",
    "    return fib_rec(num-2) + fib_rec(num-1)\n",
    "\n",
    "def fib_ite(num):\n",
    "    if num < 2:\n",
    "        return num\n",
    "    fib_sum = 3\n",
    "    for i in range(3, num+1):\n",
    "        fib_sum += i\n",
    "    return fib_sum\n",
    "\n",
    "def fib_ite_ar(num):\n",
    "    if num < 2: return num\n",
    "    arr = [0, 1]\n",
    "    for i in range(2, num+1):\n",
    "        arr.append(arr[i-2]+ arr[i-1])\n",
    "    print(arr)\n",
    "    return arr[num]\n",
    "\n",
    "def fib_dyn_prog(num):\n",
    "    if num < 2:\n",
    "        return num\n",
    "    base1, base2 = 0, 1\n",
    "    for i in range(2, num+1):\n",
    "        base1, base2 = base2, base1+base2\n",
    "    return base2\n",
    "\n",
    "def fib_memo(num):\n",
    "    if num < 2:\n",
    "        return num\n",
    "    memo = {0: 0, 1:1}\n",
    "    for i in range(2, num+1):\n",
    "        memo[i] = memo[i-1] + memo[i-2]\n",
    "    print(memo)\n",
    "    return memo[num]\n",
    "    "
   ]
  },
  {
   "cell_type": "code",
   "execution_count": 125,
   "metadata": {
    "colab": {
     "base_uri": "https://localhost:8080/"
    },
    "executionInfo": {
     "elapsed": 770,
     "status": "ok",
     "timestamp": 1605143276389,
     "user": {
      "displayName": "Moe Khan",
      "photoUrl": "https://lh3.googleusercontent.com/a-/AOh14GihIfMaGkqmaWkIqJQMZkUikNd8fXA1cTUkxrAyMg=s64",
      "userId": "07011757049449668258"
     },
     "user_tz": 480
    },
    "id": "V9BpYWzhYHba",
    "outputId": "9551f033-bf30-4ef5-f9f1-c56f7d7e00d6"
   },
   "outputs": [
    {
     "name": "stdout",
     "output_type": "stream",
     "text": [
      "main loop 4\n",
      "main loop 3\n",
      "main loop 2\n",
      "main loop 2\n"
     ]
    },
    {
     "data": {
      "text/plain": [
       "3"
      ]
     },
     "execution_count": 125,
     "metadata": {
      "tags": []
     },
     "output_type": "execute_result"
    }
   ],
   "source": [
    "# %timeit fib_rec(5)\n",
    "fib_rec(4)"
   ]
  },
  {
   "cell_type": "code",
   "execution_count": 96,
   "metadata": {
    "colab": {
     "base_uri": "https://localhost:8080/"
    },
    "executionInfo": {
     "elapsed": 9160,
     "status": "ok",
     "timestamp": 1605135902605,
     "user": {
      "displayName": "Moe Khan",
      "photoUrl": "https://lh3.googleusercontent.com/a-/AOh14GihIfMaGkqmaWkIqJQMZkUikNd8fXA1cTUkxrAyMg=s64",
      "userId": "07011757049449668258"
     },
     "user_tz": 480
    },
    "id": "3IRj85ZuYHe_",
    "outputId": "386dfafa-a77f-44e2-e217-25246ed13981"
   },
   "outputs": [
    {
     "name": "stdout",
     "output_type": "stream",
     "text": [
      "The slowest run took 9.02 times longer than the fastest. This could mean that an intermediate result is being cached.\n",
      "1000000 loops, best of 3: 379 ns per loop\n"
     ]
    },
    {
     "data": {
      "text/plain": [
       "15"
      ]
     },
     "execution_count": 96,
     "metadata": {
      "tags": []
     },
     "output_type": "execute_result"
    }
   ],
   "source": [
    "\n",
    "%timeit fib_ite(5)\n",
    "fib_ite(5)"
   ]
  },
  {
   "cell_type": "code",
   "execution_count": 132,
   "metadata": {
    "colab": {
     "base_uri": "https://localhost:8080/"
    },
    "executionInfo": {
     "elapsed": 469,
     "status": "ok",
     "timestamp": 1605143780411,
     "user": {
      "displayName": "Moe Khan",
      "photoUrl": "https://lh3.googleusercontent.com/a-/AOh14GihIfMaGkqmaWkIqJQMZkUikNd8fXA1cTUkxrAyMg=s64",
      "userId": "07011757049449668258"
     },
     "user_tz": 480
    },
    "id": "xM4aEmXKBZMk",
    "outputId": "6f5515b7-234a-4f9c-e082-c25e61ac2a69"
   },
   "outputs": [
    {
     "name": "stdout",
     "output_type": "stream",
     "text": [
      "[0, 1, 1, 2, 3, 5]\n"
     ]
    },
    {
     "data": {
      "text/plain": [
       "5"
      ]
     },
     "execution_count": 132,
     "metadata": {
      "tags": []
     },
     "output_type": "execute_result"
    }
   ],
   "source": [
    "fib_ite_ar(5)"
   ]
  },
  {
   "cell_type": "code",
   "execution_count": null,
   "metadata": {
    "id": "SiY8ojhcBaBK"
   },
   "outputs": [],
   "source": []
  },
  {
   "cell_type": "code",
   "execution_count": 98,
   "metadata": {
    "colab": {
     "base_uri": "https://localhost:8080/"
    },
    "executionInfo": {
     "elapsed": 2858,
     "status": "ok",
     "timestamp": 1605135927971,
     "user": {
      "displayName": "Moe Khan",
      "photoUrl": "https://lh3.googleusercontent.com/a-/AOh14GihIfMaGkqmaWkIqJQMZkUikNd8fXA1cTUkxrAyMg=s64",
      "userId": "07011757049449668258"
     },
     "user_tz": 480
    },
    "id": "WxVD6YtQYHip",
    "outputId": "36579f49-afe7-4991-8321-1438551350c8"
   },
   "outputs": [
    {
     "name": "stdout",
     "output_type": "stream",
     "text": [
      "The slowest run took 4.61 times longer than the fastest. This could mean that an intermediate result is being cached.\n",
      "1000000 loops, best of 3: 538 ns per loop\n"
     ]
    },
    {
     "data": {
      "text/plain": [
       "5"
      ]
     },
     "execution_count": 98,
     "metadata": {
      "tags": []
     },
     "output_type": "execute_result"
    }
   ],
   "source": [
    "%timeit fib_dyn_prog(5)\n",
    "fib_dyn_prog(5)\n"
   ]
  },
  {
   "cell_type": "code",
   "execution_count": 126,
   "metadata": {
    "colab": {
     "base_uri": "https://localhost:8080/"
    },
    "executionInfo": {
     "elapsed": 653,
     "status": "ok",
     "timestamp": 1605143291689,
     "user": {
      "displayName": "Moe Khan",
      "photoUrl": "https://lh3.googleusercontent.com/a-/AOh14GihIfMaGkqmaWkIqJQMZkUikNd8fXA1cTUkxrAyMg=s64",
      "userId": "07011757049449668258"
     },
     "user_tz": 480
    },
    "id": "CpGQpWbDi1VQ",
    "outputId": "807cb662-cd14-42bc-ee8c-7012e575eedb"
   },
   "outputs": [
    {
     "name": "stdout",
     "output_type": "stream",
     "text": [
      "{0: 0, 1: 1, 2: 1, 3: 2, 4: 3, 5: 5}\n"
     ]
    },
    {
     "data": {
      "text/plain": [
       "5"
      ]
     },
     "execution_count": 126,
     "metadata": {
      "tags": []
     },
     "output_type": "execute_result"
    }
   ],
   "source": [
    "fib_memo(5)"
   ]
  },
  {
   "cell_type": "code",
   "execution_count": 97,
   "metadata": {
    "executionInfo": {
     "elapsed": 10805,
     "status": "ok",
     "timestamp": 1605135904868,
     "user": {
      "displayName": "Moe Khan",
      "photoUrl": "https://lh3.googleusercontent.com/a-/AOh14GihIfMaGkqmaWkIqJQMZkUikNd8fXA1cTUkxrAyMg=s64",
      "userId": "07011757049449668258"
     },
     "user_tz": 480
    },
    "id": "Ya-2IMmweP5r"
   },
   "outputs": [],
   "source": []
  },
  {
   "cell_type": "code",
   "execution_count": 147,
   "metadata": {
    "executionInfo": {
     "elapsed": 479,
     "status": "ok",
     "timestamp": 1605145044358,
     "user": {
      "displayName": "Moe Khan",
      "photoUrl": "https://lh3.googleusercontent.com/a-/AOh14GihIfMaGkqmaWkIqJQMZkUikNd8fXA1cTUkxrAyMg=s64",
      "userId": "07011757049449668258"
     },
     "user_tz": 480
    },
    "id": "zo8KaSMYECrg"
   },
   "outputs": [],
   "source": [
    "# reverse the string using recursion\n",
    "\n",
    "def rev_string(s):\n",
    "    n = len(s)  \n",
    "    if n == 1 : # boundary condition\n",
    "        return s\n",
    "    return s[n-1] + rev_string(s[: n-1])"
   ]
  },
  {
   "cell_type": "code",
   "execution_count": 148,
   "metadata": {
    "colab": {
     "base_uri": "https://localhost:8080/",
     "height": 35
    },
    "executionInfo": {
     "elapsed": 289,
     "status": "ok",
     "timestamp": 1605145044865,
     "user": {
      "displayName": "Moe Khan",
      "photoUrl": "https://lh3.googleusercontent.com/a-/AOh14GihIfMaGkqmaWkIqJQMZkUikNd8fXA1cTUkxrAyMg=s64",
      "userId": "07011757049449668258"
     },
     "user_tz": 480
    },
    "id": "EtRSD1vGECus",
    "outputId": "ff41a11a-8161-41f6-b911-d8c63aa1bcdc"
   },
   "outputs": [
    {
     "data": {
      "application/vnd.google.colaboratory.intrinsic+json": {
       "type": "string"
      },
      "text/plain": [
       "'yretsam oyoy'"
      ]
     },
     "execution_count": 148,
     "metadata": {
      "tags": []
     },
     "output_type": "execute_result"
    }
   ],
   "source": [
    "rev_string('yoyo mastery')"
   ]
  },
  {
   "cell_type": "code",
   "execution_count": 149,
   "metadata": {
    "colab": {
     "base_uri": "https://localhost:8080/"
    },
    "executionInfo": {
     "elapsed": 508,
     "status": "ok",
     "timestamp": 1605145078561,
     "user": {
      "displayName": "Moe Khan",
      "photoUrl": "https://lh3.googleusercontent.com/a-/AOh14GihIfMaGkqmaWkIqJQMZkUikNd8fXA1cTUkxrAyMg=s64",
      "userId": "07011757049449668258"
     },
     "user_tz": 480
    },
    "id": "2vh5VtxvECxZ",
    "outputId": "4f2c7f2e-ff6a-46fa-918a-0ba310f0ae39"
   },
   "outputs": [
    {
     "name": "stdout",
     "output_type": "stream",
     "text": [
      "y\n",
      "yoyo master\n"
     ]
    }
   ],
   "source": [
    "a = 'yoyo mastery'\n",
    "print(a[11])\n",
    "print(a[:11])"
   ]
  },
  {
   "cell_type": "code",
   "execution_count": null,
   "metadata": {
    "id": "KGjGGcXhEC2O"
   },
   "outputs": [],
   "source": []
  }
 ],
 "metadata": {
  "colab": {
   "authorship_tag": "ABX9TyMX8Sm6yjdiaPqNbcew1M6/",
   "collapsed_sections": [],
   "name": "factorials.ipynb",
   "provenance": []
  },
  "kernelspec": {
   "display_name": "Python 3",
   "language": "python",
   "name": "python3"
  },
  "language_info": {
   "codemirror_mode": {
    "name": "ipython",
    "version": 3
   },
   "file_extension": ".py",
   "mimetype": "text/x-python",
   "name": "python",
   "nbconvert_exporter": "python",
   "pygments_lexer": "ipython3",
   "version": "3.7.6"
  }
 },
 "nbformat": 4,
 "nbformat_minor": 4
}
