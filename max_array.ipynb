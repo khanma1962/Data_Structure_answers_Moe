{
 "cells": [
  {
   "cell_type": "code",
   "execution_count": null,
   "metadata": {},
   "outputs": [],
   "source": [
    "'''\n",
    "53. Maximum Subarray\n",
    "Easy\n",
    "\n",
    "9794\n",
    "\n",
    "475\n",
    "\n",
    "Add to List\n",
    "\n",
    "Share\n",
    "Given an integer array nums, find the contiguous subarray (containing at least one number) which has the largest sum and return its sum.\n",
    "\n",
    "Follow up: If you have figured out the O(n) solution, try coding another solution using the divide and conquer approach, which is more subtle.\n",
    "\n",
    " \n",
    "\n",
    "Example 1:\n",
    "\n",
    "Input: nums = [-2,1,-3,4,-1,2,1,-5,4]\n",
    "Output: 6\n",
    "Explanation: [4,-1,2,1] has the largest sum = 6.\n",
    "Example 2:\n",
    "\n",
    "Input: nums = [1]\n",
    "Output: 1\n",
    "Example 3:\n",
    "\n",
    "Input: nums = [0]\n",
    "Output: 0\n",
    "Example 4:\n",
    "\n",
    "Input: nums = [-1]\n",
    "Output: -1\n",
    "Example 5:\n",
    "\n",
    "Input: nums = [-2147483647]\n",
    "Output: -2147483647\n",
    " \n",
    "\n",
    "Constraints:\n",
    "\n",
    "1 <= nums.length <= 2 * 104\n",
    "-231 <= nums[i] <= 231 - 1\n",
    "\n",
    "'''"
   ]
  },
  {
   "cell_type": "code",
   "execution_count": null,
   "metadata": {},
   "outputs": [],
   "source": [
    "def maxSubArray(self, A):\n",
    "\n",
    "        len_A = len(A)\n",
    "        if 1 == len_A:\n",
    "            return A[0]\n",
    "\n",
    "        max = None\n",
    "        sum = 0\n",
    "        for n in range(0, len_A):\n",
    "            sum += A[n]\n",
    "            if None == max or sum > max:\n",
    "                max = sum\n",
    "            if sum < 0:\n",
    "                sum = 0\n",
    "                continue\n",
    "\n",
    "        return max"
   ]
  },
  {
   "cell_type": "code",
   "execution_count": null,
   "metadata": {},
   "outputs": [],
   "source": []
  },
  {
   "cell_type": "code",
   "execution_count": null,
   "metadata": {},
   "outputs": [],
   "source": []
  },
  {
   "cell_type": "code",
   "execution_count": 33,
   "metadata": {},
   "outputs": [],
   "source": [
    "def max_array(nums):\n",
    "    if len(nums) ==1 : # boundary case\n",
    "        return nums[0]\n",
    "    max_so_far = 0\n",
    "    max_ending = 0 #  sum\n",
    "    \n",
    "    for i in range(len(nums)):\n",
    "        print('debug', max_so_far, max_ending, i)\n",
    "        max_ending += nums[i]\n",
    "        if max_ending > max_so_far:\n",
    "            print('loop1')\n",
    "            max_so_far = max_ending\n",
    "        else:\n",
    "            if max_ending < 0 :\n",
    "                print('loop2')\n",
    "                max_ending = 0\n",
    "    return max_so_far\n",
    "        \n",
    "        \n",
    "    "
   ]
  },
  {
   "cell_type": "code",
   "execution_count": 34,
   "metadata": {},
   "outputs": [
    {
     "name": "stdout",
     "output_type": "stream",
     "text": [
      "debug 0 0 0\n",
      "loop2\n",
      "debug 0 0 1\n",
      "loop1\n",
      "debug 1 1 2\n",
      "loop2\n",
      "debug 1 0 3\n",
      "loop1\n",
      "debug 4 4 4\n",
      "debug 4 3 5\n",
      "loop1\n",
      "debug 5 5 6\n",
      "loop1\n",
      "debug 6 6 7\n",
      "debug 6 1 8\n"
     ]
    },
    {
     "data": {
      "text/plain": [
       "6"
      ]
     },
     "execution_count": 34,
     "metadata": {},
     "output_type": "execute_result"
    }
   ],
   "source": [
    "nums =  [-2,1,-3,4,-1,2,1,-5,4]\n",
    "# nums = [1]\n",
    "# nums = [-2,-1] # expects -1\n",
    "max_array(nums)"
   ]
  },
  {
   "cell_type": "code",
   "execution_count": null,
   "metadata": {},
   "outputs": [],
   "source": []
  },
  {
   "cell_type": "code",
   "execution_count": null,
   "metadata": {},
   "outputs": [],
   "source": []
  },
  {
   "cell_type": "code",
   "execution_count": null,
   "metadata": {},
   "outputs": [],
   "source": []
  }
 ],
 "metadata": {
  "kernelspec": {
   "display_name": "Python 3",
   "language": "python",
   "name": "python3"
  },
  "language_info": {
   "codemirror_mode": {
    "name": "ipython",
    "version": 3
   },
   "file_extension": ".py",
   "mimetype": "text/x-python",
   "name": "python",
   "nbconvert_exporter": "python",
   "pygments_lexer": "ipython3",
   "version": "3.7.6"
  }
 },
 "nbformat": 4,
 "nbformat_minor": 4
}
