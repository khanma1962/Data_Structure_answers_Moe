{
 "cells": [
  {
   "cell_type": "code",
   "execution_count": null,
   "metadata": {},
   "outputs": [],
   "source": []
  },
  {
   "cell_type": "code",
   "execution_count": null,
   "metadata": {},
   "outputs": [],
   "source": [
    "'''\n",
    "Given an input string, write a function that returns \n",
    "the Run Length Encoded \n",
    "string for the input string.\n",
    "For example, if the input string is\n",
    "“wwwwaaadexxxxxx”, then the function should \n",
    "return “w4a3d1e1x6”\n",
    "\n",
    "'''"
   ]
  },
  {
   "cell_type": "code",
   "execution_count": 11,
   "metadata": {},
   "outputs": [
    {
     "output_type": "execute_result",
     "data": {
      "text/plain": [
       "[('a', 4), ('b', 3), ('c', 2), ('a', 1)]"
      ]
     },
     "metadata": {},
     "execution_count": 11
    }
   ],
   "source": [
    "def string_compression(s):\n",
    "\n",
    "    prev = s[0]\n",
    "    count, res = 1, []\n",
    "    for i in range(1, len(s)):\n",
    "        if s[i] == s[i-1]:\n",
    "            count += 1\n",
    "        else:\n",
    "            res.append((s[i-1], count))\n",
    "            count = 1\n",
    "    res.append((s[i], count))\n",
    "    return res\n",
    "\n",
    "string_compression('aaaabbbcca')"
   ]
  },
  {
   "cell_type": "code",
   "execution_count": 4,
   "metadata": {},
   "outputs": [
    {
     "output_type": "stream",
     "name": "stdout",
     "text": [
      "d1 is {'a': 1}\nd1 is {'a': 2}\nd1 is {'a': 3}\nd1 is {'a': 4}\nd1 is {'a': 4, 'b': 1}\nd1 is {'a': 4, 'b': 2}\nd1 is {'a': 4, 'b': 3}\nd1 is {'a': 4, 'b': 3, 'c': 1}\nd1 is {'a': 4, 'b': 3, 'c': 2}\nd1 is {'a': 5, 'b': 3, 'c': 2}\n"
     ]
    },
    {
     "output_type": "execute_result",
     "data": {
      "text/plain": [
       "[('a', 5), ('b', 3), ('c', 2)]"
      ]
     },
     "metadata": {},
     "execution_count": 4
    }
   ],
   "source": [
    "def string_compression(s):\n",
    "    if len(s) == 0: # boundary condition\n",
    "        print('String is empty')\n",
    "\n",
    "    d1, res = {}, []\n",
    "\n",
    "    for char in s:\n",
    "        if char not in d1:\n",
    "            d1[char] = 1\n",
    "        else:\n",
    "            d1[char] += 1\n",
    "        print('d1 is', d1)\n",
    "\n",
    "\n",
    "    for k,v in d1.items():\n",
    "        # k_v = k + str(v)\n",
    "        # res = res + (k_v)\n",
    "        res.append((k,v))\n",
    "        # print(res)\n",
    "    return res\n",
    "\n",
    "string_compression('aaaabbbcca')"
   ]
  },
  {
   "cell_type": "code",
   "execution_count": 20,
   "metadata": {},
   "outputs": [
    {
     "name": "stdout",
     "output_type": "stream",
     "text": [
      "\n",
      "i, s[i] and s[i+1] --> 0 w w\n",
      "w count is 2 \n",
      "\n",
      "i, s[i] and s[i+1] --> 1 w w\n",
      "w count is 3 \n",
      "\n",
      "i, s[i] and s[i+1] --> 2 w w\n",
      "w count is 4 \n",
      "w4\n",
      "i, s[i] and s[i+1] --> 4 a a\n",
      "a count is 2 \n",
      "\n",
      "i, s[i] and s[i+1] --> 5 a a\n",
      "a count is 3 \n",
      "a3a1d1\n",
      "i, s[i] and s[i+1] --> 9 x x\n",
      "x count is 2 \n",
      "\n",
      "i, s[i] and s[i+1] --> 10 x x\n",
      "x count is 3 \n",
      "\n",
      "i, s[i] and s[i+1] --> 11 x x\n",
      "x count is 4 \n",
      "\n",
      "i, s[i] and s[i+1] --> 12 x x\n",
      "x count is 5 \n",
      "\n",
      "i, s[i] and s[i+1] --> 13 x x\n",
      "x count is 6 \n",
      "x6None\n"
     ]
    }
   ],
   "source": [
    "def RLE(s):\n",
    "    if len(s) == 1: # boundary condition\n",
    "        return s\n",
    "    l = len(s)\n",
    "    i = 0\n",
    "    \n",
    "    while i < l-1:\n",
    "        count = 1\n",
    "        while i < l-1 and (s[i] == s[i+1]):\n",
    "            print('\\ni, s[i] and s[i+1] -->', i, s[i], s[i+1])\n",
    "            count += 1\n",
    "            print('{} count is {} '.format(s[i], count))\n",
    "            i += 1\n",
    "        print(s[i-1]+ str(count),end = '')\n",
    "        i += 1\n",
    "    \n",
    "        \n",
    "# test it here\n",
    "\n",
    "if __name__ == '__main__':\n",
    "    st = 'wwwwaaadexxxxxx'\n",
    "    print(RLE(st))\n",
    "        \n",
    "    \n",
    "    "
   ]
  },
  {
   "cell_type": "code",
   "execution_count": null,
   "metadata": {},
   "outputs": [],
   "source": []
  },
  {
   "cell_type": "code",
   "execution_count": null,
   "metadata": {},
   "outputs": [],
   "source": []
  }
 ],
 "metadata": {
  "kernelspec": {
   "display_name": "Python 3",
   "language": "python",
   "name": "python3"
  },
  "language_info": {
   "codemirror_mode": {
    "name": "ipython",
    "version": 3
   },
   "file_extension": ".py",
   "mimetype": "text/x-python",
   "name": "python",
   "nbconvert_exporter": "python",
   "pygments_lexer": "ipython3",
   "version": "3.7.6-final"
  }
 },
 "nbformat": 4,
 "nbformat_minor": 4
}